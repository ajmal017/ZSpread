{
 "cells": [
  {
   "cell_type": "code",
   "execution_count": 1,
   "metadata": {},
   "outputs": [],
   "source": [
    "import pandas_datareader.data as web\n",
    "from matplotlib import pyplot as plt\n",
    "import pandas as pd\n",
    "import numpy as np\n",
    "import datetime"
   ]
  },
  {
   "cell_type": "code",
   "execution_count": 33,
   "metadata": {},
   "outputs": [
    {
     "data": {
      "text/plain": [
       "0.023519579909469592"
      ]
     },
     "execution_count": 33,
     "metadata": {},
     "output_type": "execute_result"
    }
   ],
   "source": [
    "import pandas as pd \n",
    "import numpy as np\n",
    "import pandas_datareader as pdr\n",
    "\n",
    "def getBeta(series,sl): \n",
    "    hl=series[['High','Low']].values \n",
    "    hl=np.log(hl[:,0]/hl[:,1])**2 \n",
    "    hl=pd.Series(hl,index=series.index) \n",
    "    beta = hl.rolling(window=2).sum()\n",
    "    beta = beta.rolling(window=sl).mean()\n",
    "    return beta.dropna()\n",
    "\n",
    "\n",
    "def getGamma(series): \n",
    "    #h2= pandas.stats.moments.rolling_max(series['High'],window=2)\n",
    "    h2 = series.High.rolling(window=2).max()\n",
    "    #l2=pd.stats.moments.rolling_min(series['Low'],window=2) #Deprecated\n",
    "    l2 = series.Low.rolling(window=2).min()\n",
    "    gamma=np.log(h2.values/l2.values)**2 \n",
    "    gamma=pd.Series(gamma,index=h2.index)\n",
    "    return gamma.dropna()\n",
    "\n",
    "def getAlpha(beta,gamma):\n",
    "    den = 3 -2*2**.5\n",
    "    alpha = (2**.5-1)*(beta**.5)/den\n",
    "    alpha -= (gamma/den)**.5\n",
    "    alpha[alpha<0] = 0 #Set neg alphas to 0\n",
    "    return alpha.dropna()\n",
    "\n",
    "def corwinSchultz(series,sl=1):\n",
    "    # Note: S<0 iif alpha<0\n",
    "    beta=getBeta(series,sl)\n",
    "    gamma=getGamma(series)\n",
    "    alpha=getAlpha(beta,gamma)\n",
    "    spread=2*(np.exp(alpha)-1)/(1+np.exp(alpha)) \n",
    "    startTime=pd.Series(series.index[0:spread.shape[0]],index=spread.index) \n",
    "    spread=pd.concat([spread,startTime],axis=1) \n",
    "    spread.columns=['Spread','Start_Time'] # 1st loc used to compute beta \n",
    "    return spread \n",
    "\n",
    "def calcSpread(ticker,type='mean',top=50):\n",
    "    import pandas_datareader as pdr\n",
    "    sec = pdr.DataReader(ticker,data_source='yahoo',start='2019-01-01')\n",
    "    sp = corwinSchultz(sec)\n",
    "    sprd = sp.sort_values(by='Spread',ascending=False)\n",
    "    if type == 'mean': return sprd.Spread.head(top).mean()\n",
    "    if type == 'median': return sprd.Spread.head(top).median()\n",
    "    if type == 'max': return sprd.Spread.max()\n",
    "    return 0\n",
    "\n",
    "calcSpread('tsla')\n",
    "\n",
    "#%timeit -n10 corwinSchultz(g) #50us"
   ]
  },
  {
   "cell_type": "code",
   "execution_count": 186,
   "metadata": {},
   "outputs": [
    {
     "data": {
      "text/plain": [
       "'AMZN'"
      ]
     },
     "execution_count": 186,
     "metadata": {},
     "output_type": "execute_result"
    }
   ],
   "source": [
    "# define instruments to download\n",
    "companies_dict = {\n",
    " 'Amazon': 'AMZN',\n",
    " 'Apple': 'AAPL',\n",
    " 'Walgreen': 'WBA',\n",
    " 'Northrop Grumman': 'NOC',\n",
    " 'Boeing': 'BA',\n",
    " 'Lockheed Martin':'LMT',\n",
    " 'McDonalds': 'MCD',\n",
    " 'Intel': 'INTC',\n",
    " 'Navistar': 'NAV',\n",
    " 'IBM': 'IBM',\n",
    " 'Texas Instruments': 'TXN',\n",
    " 'MasterCard': 'MA',\n",
    " 'Microsoft': 'MSFT',\n",
    " 'General Electric': 'GE',\n",
    "'Symantec': 'SYMC',\n",
    " 'American Express': 'AXP',\n",
    " 'Pepsi': 'PEP',\n",
    " 'Coca Cola': 'KO',\n",
    " 'Johnson & Johnson': 'JNJ',\n",
    " 'Toyota': 'TM',\n",
    " 'Honda': 'HMC',\n",
    " 'Mitsubishi': 'MSBHY',\n",
    " 'Sony': 'SNE',\n",
    " 'Exxon': 'XOM',\n",
    " 'Chevron': 'CVX',\n",
    " 'Valero Energy': 'VLO',\n",
    " 'Ford': 'F',\n",
    " 'Bank of America': 'BAC'\n",
    "}\n",
    "\n",
    "companies = sorted(companies_dict,key=lambda x: x[1])\n",
    "tickers = list(companies_dict.values())\n",
    "tickers[0]"
   ]
  },
  {
   "cell_type": "code",
   "execution_count": 5,
   "metadata": {},
   "outputs": [],
   "source": [
    "'''Can derive spread using huge algo, append on, and the rest is technical...'''\n",
    "\n",
    "import alpaca_trade_api as tradeapi\n",
    "\n",
    "\n",
    "ep = 'https://paper-api.alpaca.markets'\n",
    "api_key = 'PK4LB1H4BH7YUF4XOODN'\n",
    "secret_key = '7EuTmI/C/7FwtNkEzqzFD7yiVMqaI16XfuerzHgR'\n",
    "\n",
    "api = tradeapi.REST(base_url = ep, key_id = api_key, secret_key=secret_key)\n",
    "acct = api.get_account()"
   ]
  },
  {
   "cell_type": "code",
   "execution_count": 10,
   "metadata": {},
   "outputs": [
    {
     "name": "stdout",
     "output_type": "stream",
     "text": [
      "Getting current ticker data...\n",
      "All symbols loaded\n",
      "XTRA large -- (500-10k): 937\n"
     ]
    },
    {
     "data": {
      "text/plain": [
       "'CMD'"
      ]
     },
     "execution_count": 10,
     "metadata": {},
     "output_type": "execute_result"
    }
   ],
   "source": [
    "def get_tickers(min_price=5,max_price=50,etb=False):\n",
    "    print('Getting current ticker data...')\n",
    "    tickers = api.polygon.all_tickers() #ALLLLLL SYMBOLS ! \n",
    "    print('All symbols loaded')\n",
    "    assets = api.list_assets()\n",
    "    if etb: #FILTER TRADABLE SYMBOLS; easy to borrow if switch True\n",
    "        symbols = [asset.symbol for asset in assets if asset.tradable and asset.easy_to_borrow]\n",
    "    else:\n",
    "        symbols = [asset.symbol for asset in assets if asset.tradable] \n",
    "    #print(tickers)\n",
    "    return [ticker for ticker in tickers if (\n",
    "        ticker.ticker in symbols and\n",
    "        ticker.lastTrade['p'] >= min_price and\n",
    "        ticker.lastTrade['p'] <= max_price and\n",
    "        ticker.prevDay['v'] * ticker.lastTrade['p'] > 500000 #and\n",
    "        #ticker.todaysChangePerc >= 3.5\n",
    "    )]\n",
    "\n",
    "XL = get_tickers(50,100)\n",
    "print(f'XTRA large -- (500-10k): {len(XL)}')\n",
    "XL_list = [XL.ticker for XL in XL]\n",
    "XL_list[0]"
   ]
  },
  {
   "cell_type": "code",
   "execution_count": 13,
   "metadata": {},
   "outputs": [
    {
     "name": "stderr",
     "output_type": "stream",
     "text": [
      "/Users/zoakes/opt/anaconda3/lib/python3.7/site-packages/pandas_datareader/base.py:270: SymbolWarning: Failed to read symbol: 'SYMC', replacing with NaN.\n",
      "  warnings.warn(msg.format(sym), SymbolWarning)\n"
     ]
    }
   ],
   "source": [
    "'''PDR'''\n",
    "data_source = 'yahoo'\n",
    "\n",
    "# define start and end dates\n",
    "start_date = '2019-01-01'\n",
    "panel_data = web.DataReader(list(companies_dict.values()), data_source, start_date)"
   ]
  },
  {
   "cell_type": "code",
   "execution_count": 18,
   "metadata": {},
   "outputs": [
    {
     "data": {
      "text/html": [
       "<div>\n",
       "<style scoped>\n",
       "    .dataframe tbody tr th:only-of-type {\n",
       "        vertical-align: middle;\n",
       "    }\n",
       "\n",
       "    .dataframe tbody tr th {\n",
       "        vertical-align: top;\n",
       "    }\n",
       "\n",
       "    .dataframe thead tr th {\n",
       "        text-align: left;\n",
       "    }\n",
       "\n",
       "    .dataframe thead tr:last-of-type th {\n",
       "        text-align: right;\n",
       "    }\n",
       "</style>\n",
       "<table border=\"1\" class=\"dataframe\">\n",
       "  <thead>\n",
       "    <tr>\n",
       "      <th>Attributes</th>\n",
       "      <th colspan=\"10\" halign=\"left\">Adj Close</th>\n",
       "      <th>...</th>\n",
       "      <th colspan=\"10\" halign=\"left\">Volume</th>\n",
       "    </tr>\n",
       "    <tr>\n",
       "      <th>Symbols</th>\n",
       "      <th>AMZN</th>\n",
       "      <th>AAPL</th>\n",
       "      <th>WBA</th>\n",
       "      <th>NOC</th>\n",
       "      <th>BA</th>\n",
       "      <th>LMT</th>\n",
       "      <th>MCD</th>\n",
       "      <th>INTC</th>\n",
       "      <th>NAV</th>\n",
       "      <th>IBM</th>\n",
       "      <th>...</th>\n",
       "      <th>TM</th>\n",
       "      <th>HMC</th>\n",
       "      <th>MSBHY</th>\n",
       "      <th>SNE</th>\n",
       "      <th>XOM</th>\n",
       "      <th>CVX</th>\n",
       "      <th>VLO</th>\n",
       "      <th>F</th>\n",
       "      <th>BAC</th>\n",
       "      <th>SYMC</th>\n",
       "    </tr>\n",
       "    <tr>\n",
       "      <th>Date</th>\n",
       "      <th></th>\n",
       "      <th></th>\n",
       "      <th></th>\n",
       "      <th></th>\n",
       "      <th></th>\n",
       "      <th></th>\n",
       "      <th></th>\n",
       "      <th></th>\n",
       "      <th></th>\n",
       "      <th></th>\n",
       "      <th></th>\n",
       "      <th></th>\n",
       "      <th></th>\n",
       "      <th></th>\n",
       "      <th></th>\n",
       "      <th></th>\n",
       "      <th></th>\n",
       "      <th></th>\n",
       "      <th></th>\n",
       "      <th></th>\n",
       "      <th></th>\n",
       "    </tr>\n",
       "  </thead>\n",
       "  <tbody>\n",
       "    <tr>\n",
       "      <th>2019-01-02</th>\n",
       "      <td>1539.130005</td>\n",
       "      <td>155.214005</td>\n",
       "      <td>65.960114</td>\n",
       "      <td>242.510529</td>\n",
       "      <td>316.517212</td>\n",
       "      <td>258.070404</td>\n",
       "      <td>171.911087</td>\n",
       "      <td>45.708950</td>\n",
       "      <td>27.030001</td>\n",
       "      <td>108.800987</td>\n",
       "      <td>...</td>\n",
       "      <td>169900.0</td>\n",
       "      <td>655900.0</td>\n",
       "      <td>13900.0</td>\n",
       "      <td>779800.0</td>\n",
       "      <td>16727200.0</td>\n",
       "      <td>6384800.0</td>\n",
       "      <td>4271900.0</td>\n",
       "      <td>47494400.0</td>\n",
       "      <td>71836300.0</td>\n",
       "      <td>NaN</td>\n",
       "    </tr>\n",
       "    <tr>\n",
       "      <th>2019-01-03</th>\n",
       "      <td>1500.280029</td>\n",
       "      <td>139.753540</td>\n",
       "      <td>65.271805</td>\n",
       "      <td>236.161575</td>\n",
       "      <td>303.897919</td>\n",
       "      <td>251.587662</td>\n",
       "      <td>170.778427</td>\n",
       "      <td>43.194374</td>\n",
       "      <td>26.219999</td>\n",
       "      <td>106.628937</td>\n",
       "      <td>...</td>\n",
       "      <td>309500.0</td>\n",
       "      <td>937000.0</td>\n",
       "      <td>12300.0</td>\n",
       "      <td>1618500.0</td>\n",
       "      <td>13866100.0</td>\n",
       "      <td>6496200.0</td>\n",
       "      <td>3300800.0</td>\n",
       "      <td>39172400.0</td>\n",
       "      <td>66599600.0</td>\n",
       "      <td>NaN</td>\n",
       "    </tr>\n",
       "    <tr>\n",
       "      <th>2019-01-04</th>\n",
       "      <td>1575.390015</td>\n",
       "      <td>145.719513</td>\n",
       "      <td>67.443344</td>\n",
       "      <td>244.016571</td>\n",
       "      <td>319.713531</td>\n",
       "      <td>258.372620</td>\n",
       "      <td>174.078751</td>\n",
       "      <td>45.844868</td>\n",
       "      <td>27.160000</td>\n",
       "      <td>110.793617</td>\n",
       "      <td>...</td>\n",
       "      <td>307500.0</td>\n",
       "      <td>826300.0</td>\n",
       "      <td>11600.0</td>\n",
       "      <td>1185000.0</td>\n",
       "      <td>16043600.0</td>\n",
       "      <td>7952500.0</td>\n",
       "      <td>4364500.0</td>\n",
       "      <td>43039800.0</td>\n",
       "      <td>83829100.0</td>\n",
       "      <td>NaN</td>\n",
       "    </tr>\n",
       "    <tr>\n",
       "      <th>2019-01-07</th>\n",
       "      <td>1629.510010</td>\n",
       "      <td>145.395203</td>\n",
       "      <td>67.831108</td>\n",
       "      <td>245.916351</td>\n",
       "      <td>320.720306</td>\n",
       "      <td>261.336090</td>\n",
       "      <td>175.973053</td>\n",
       "      <td>46.058460</td>\n",
       "      <td>29.150000</td>\n",
       "      <td>111.577446</td>\n",
       "      <td>...</td>\n",
       "      <td>156100.0</td>\n",
       "      <td>806700.0</td>\n",
       "      <td>9000.0</td>\n",
       "      <td>674000.0</td>\n",
       "      <td>10844200.0</td>\n",
       "      <td>5712700.0</td>\n",
       "      <td>3833600.0</td>\n",
       "      <td>40729400.0</td>\n",
       "      <td>57016300.0</td>\n",
       "      <td>NaN</td>\n",
       "    </tr>\n",
       "    <tr>\n",
       "      <th>2019-01-08</th>\n",
       "      <td>1656.579956</td>\n",
       "      <td>148.166870</td>\n",
       "      <td>69.188316</td>\n",
       "      <td>247.028641</td>\n",
       "      <td>332.860657</td>\n",
       "      <td>263.081085</td>\n",
       "      <td>176.344086</td>\n",
       "      <td>46.349724</td>\n",
       "      <td>29.510000</td>\n",
       "      <td>113.163979</td>\n",
       "      <td>...</td>\n",
       "      <td>150400.0</td>\n",
       "      <td>949400.0</td>\n",
       "      <td>13000.0</td>\n",
       "      <td>1033000.0</td>\n",
       "      <td>11439000.0</td>\n",
       "      <td>5674900.0</td>\n",
       "      <td>3087700.0</td>\n",
       "      <td>45644000.0</td>\n",
       "      <td>67339400.0</td>\n",
       "      <td>NaN</td>\n",
       "    </tr>\n",
       "  </tbody>\n",
       "</table>\n",
       "<p>5 rows × 168 columns</p>\n",
       "</div>"
      ],
      "text/plain": [
       "Attributes    Adj Close                                                 \\\n",
       "Symbols            AMZN        AAPL        WBA         NOC          BA   \n",
       "Date                                                                     \n",
       "2019-01-02  1539.130005  155.214005  65.960114  242.510529  316.517212   \n",
       "2019-01-03  1500.280029  139.753540  65.271805  236.161575  303.897919   \n",
       "2019-01-04  1575.390015  145.719513  67.443344  244.016571  319.713531   \n",
       "2019-01-07  1629.510010  145.395203  67.831108  245.916351  320.720306   \n",
       "2019-01-08  1656.579956  148.166870  69.188316  247.028641  332.860657   \n",
       "\n",
       "Attributes                                                            ...  \\\n",
       "Symbols            LMT         MCD       INTC        NAV         IBM  ...   \n",
       "Date                                                                  ...   \n",
       "2019-01-02  258.070404  171.911087  45.708950  27.030001  108.800987  ...   \n",
       "2019-01-03  251.587662  170.778427  43.194374  26.219999  106.628937  ...   \n",
       "2019-01-04  258.372620  174.078751  45.844868  27.160000  110.793617  ...   \n",
       "2019-01-07  261.336090  175.973053  46.058460  29.150000  111.577446  ...   \n",
       "2019-01-08  263.081085  176.344086  46.349724  29.510000  113.163979  ...   \n",
       "\n",
       "Attributes    Volume                                                       \\\n",
       "Symbols           TM       HMC    MSBHY        SNE         XOM        CVX   \n",
       "Date                                                                        \n",
       "2019-01-02  169900.0  655900.0  13900.0   779800.0  16727200.0  6384800.0   \n",
       "2019-01-03  309500.0  937000.0  12300.0  1618500.0  13866100.0  6496200.0   \n",
       "2019-01-04  307500.0  826300.0  11600.0  1185000.0  16043600.0  7952500.0   \n",
       "2019-01-07  156100.0  806700.0   9000.0   674000.0  10844200.0  5712700.0   \n",
       "2019-01-08  150400.0  949400.0  13000.0  1033000.0  11439000.0  5674900.0   \n",
       "\n",
       "Attributes                                          \n",
       "Symbols           VLO           F         BAC SYMC  \n",
       "Date                                                \n",
       "2019-01-02  4271900.0  47494400.0  71836300.0  NaN  \n",
       "2019-01-03  3300800.0  39172400.0  66599600.0  NaN  \n",
       "2019-01-04  4364500.0  43039800.0  83829100.0  NaN  \n",
       "2019-01-07  3833600.0  40729400.0  57016300.0  NaN  \n",
       "2019-01-08  3087700.0  45644000.0  67339400.0  NaN  \n",
       "\n",
       "[5 rows x 168 columns]"
      ]
     },
     "execution_count": 18,
     "metadata": {},
     "output_type": "execute_result"
    }
   ],
   "source": [
    "#print(panel_data.axes)\n",
    "panel_data.head()"
   ]
  },
  {
   "cell_type": "code",
   "execution_count": null,
   "metadata": {},
   "outputs": [],
   "source": [
    "'''For FULL universe'''\n",
    "XL_data = web.DataReader(XL_list,data_source,start_date)"
   ]
  },
  {
   "cell_type": "code",
   "execution_count": 31,
   "metadata": {},
   "outputs": [
    {
     "data": {
      "text/plain": [
       "Date\n",
       "2019-01-02    1539.130005\n",
       "2019-01-03    1500.280029\n",
       "2019-01-04    1575.390015\n",
       "2019-01-07    1629.510010\n",
       "2019-01-08    1656.579956\n",
       "                 ...     \n",
       "2020-02-05    2039.869995\n",
       "2020-02-06    2050.229980\n",
       "2020-02-07    2079.280029\n",
       "2020-02-10    2133.909912\n",
       "2020-02-11    2162.536865\n",
       "Name: AMZN, Length: 280, dtype: float64"
      ]
     },
     "execution_count": 31,
     "metadata": {},
     "output_type": "execute_result"
    }
   ],
   "source": [
    "c = panel_data['Close']\n",
    "o = panel_data['Open']\n",
    "h = panel_data['High']\n",
    "l = panel_data['Low']\n",
    "panel_data['Adj Close']['AMZN']"
   ]
  },
  {
   "cell_type": "code",
   "execution_count": 35,
   "metadata": {},
   "outputs": [
    {
     "name": "stderr",
     "output_type": "stream",
     "text": [
      "/Users/zoakes/opt/anaconda3/lib/python3.7/site-packages/ipykernel_launcher.py:6: SettingWithCopyWarning: \n",
      "A value is trying to be set on a copy of a slice from a DataFrame\n",
      "\n",
      "See the caveats in the documentation: http://pandas.pydata.org/pandas-docs/stable/user_guide/indexing.html#returning-a-view-versus-a-copy\n",
      "  \n"
     ]
    }
   ],
   "source": [
    "'''This isnt working... how to set values on these dfs? '''\n",
    "import talib as ta\n",
    "\n",
    "df = panel_data\n",
    "for i in companies:\n",
    "    try:\n",
    "        df['Spread'][i] = calcSpread(i)\n",
    "        df['Atr'][i] = ta.ATR()\n",
    "    except Exception:\n",
    "        pass"
   ]
  },
  {
   "cell_type": "code",
   "execution_count": 37,
   "metadata": {},
   "outputs": [
    {
     "data": {
      "text/plain": [
       "MultiIndex([('Adj Close',  'AMZN'),\n",
       "            ('Adj Close',  'AAPL'),\n",
       "            ('Adj Close',   'WBA'),\n",
       "            ('Adj Close',   'NOC'),\n",
       "            ('Adj Close',    'BA'),\n",
       "            ('Adj Close',   'LMT'),\n",
       "            ('Adj Close',   'MCD'),\n",
       "            ('Adj Close',  'INTC'),\n",
       "            ('Adj Close',   'NAV'),\n",
       "            ('Adj Close',   'IBM'),\n",
       "            ...\n",
       "            (   'Volume',   'HMC'),\n",
       "            (   'Volume', 'MSBHY'),\n",
       "            (   'Volume',   'SNE'),\n",
       "            (   'Volume',   'XOM'),\n",
       "            (   'Volume',   'CVX'),\n",
       "            (   'Volume',   'VLO'),\n",
       "            (   'Volume',     'F'),\n",
       "            (   'Volume',   'BAC'),\n",
       "            (   'Volume',  'SYMC'),\n",
       "            (   'Spread',      '')],\n",
       "           names=['Attributes', 'Symbols'], length=169)"
      ]
     },
     "execution_count": 37,
     "metadata": {},
     "output_type": "execute_result"
    }
   ],
   "source": [
    "df.columns"
   ]
  },
  {
   "cell_type": "code",
   "execution_count": 162,
   "metadata": {},
   "outputs": [],
   "source": [
    "# Calculate daily stock movement\n",
    "stock_close = np.array(c).T\n",
    "stock_open = np.array(o).T\n",
    "stock_high = np.array(h).T\n",
    "stock_low = np.array(l).T\n",
    "\n",
    "row, col = stock_close.shape\n",
    "\n",
    "# create movements dataset filled with 0's\n",
    "movements = np.zeros([row, col])\n",
    "\n",
    "for i in range(0, row):\n",
    "    movements[i,:] = np.subtract(stock_close[i,:], stock_open[i,:])"
   ]
  },
  {
   "cell_type": "code",
   "execution_count": 52,
   "metadata": {},
   "outputs": [],
   "source": [
    "atrs = np.zeros([row,col])\n"
   ]
  },
  {
   "cell_type": "code",
   "execution_count": 107,
   "metadata": {},
   "outputs": [
    {
     "name": "stdout",
     "output_type": "stream",
     "text": [
      "AAPL\n"
     ]
    }
   ],
   "source": [
    "print(tickers[1])\n",
    "\n",
    "'''\n",
    "NO easy way to loop and build out this multi-indexed DF -- NO fucking way\n",
    "\n",
    "for i in tickers:\n",
    "    try:\n",
    "        #print(df['ATR'][i])\n",
    "        df['ATR'][i] = ta.ATR(df['High'][i],df['Low'][i],df['Close'][i],14)\n",
    "    except Exception:\n",
    "        print(f'Exception with {i}')\n",
    "        pass\n",
    "  \n",
    "#CHANGE ORDER OF COL MULTI_INDEX (make it Instrument, then metric -- so df['amzn'] should be normal smaller df)\n",
    "#print(df['Spread'][i])\n",
    "dfs = df\n",
    "dfs.columns = df.columns.swaplevel(0,1)\n",
    "dfs.sort_index(axis=1, level=0, inplace=True)\n",
    "dfs\n",
    "tickers = [str(i) for i in tickers]\n",
    "#for i in tickers:\n",
    "    #dfs[i]['ATR'] = ta.ATR(dfs[i]['High'],dfs[i]['Low'],dfs[i]['Close'],14)\n",
    "    \n",
    "#dfs['AMZN']['ATR'] = ta.ATR(dfs['AMZN']['High'],dfs['AMZN']['Low'],dfs['AMZN']['Close'],14) #-- THIS Works?! why not loop?\n",
    "'''"
   ]
  },
  {
   "cell_type": "code",
   "execution_count": 165,
   "metadata": {},
   "outputs": [
    {
     "data": {
      "text/plain": [
       "'Spreads = {}\\nfor n,i in enumerate(tickers): #range(0,len(companies)):\\n    #ATRs = ta.ATR(stock_high[i],stock_low[i],stock_close[i],14)\\n    Spreads[str(i)] = calcSpread(i)\\n    ATRs[n] = np.mean(stock_high[n][-14:] - stock_low[n][-14:]) '"
      ]
     },
     "execution_count": 165,
     "metadata": {},
     "output_type": "execute_result"
    }
   ],
   "source": [
    "#for i in range(0, len(companies)):\n",
    "    #print('Company: {}, Change: {}'.format(companies[i][:], sum(movements[i][:])))\n",
    "#Get Spreads\n",
    "for i in tickers:\n",
    "    Spread_dict[str(i)] = calcSpread(i)\n",
    "    \n",
    "    \n",
    "ATRs = np.zeros([row, col])\n",
    "sprds = np.zeros([row,col])\n",
    "n=0\n",
    "for n in range(len(tickers)):\n",
    "    ATRs[n] = np.mean(stock_high[n][-14:] - stock_low[n][-14:])\n",
    "    sprds[n][:] = Spreads[tickers[n]] #Broadcast spreads... fill same space.\n",
    "    \n",
    "\n",
    "\n",
    "'''Spreads = {}\n",
    "for n,i in enumerate(tickers): #range(0,len(companies)):\n",
    "    #ATRs = ta.ATR(stock_high[i],stock_low[i],stock_close[i],14)\n",
    "    Spreads[str(i)] = calcSpread(i)\n",
    "    ATRs[n] = np.mean(stock_high[n][-14:] - stock_low[n][-14:]) '''"
   ]
  },
  {
   "cell_type": "code",
   "execution_count": 167,
   "metadata": {},
   "outputs": [
    {
     "data": {
      "text/plain": [
       "array([[0.01115405, 0.01115405, 0.01115405, ..., 0.01115405, 0.01115405,\n",
       "        0.01115405],\n",
       "       [0.01119485, 0.01119485, 0.01119485, ..., 0.01119485, 0.01119485,\n",
       "        0.01119485],\n",
       "       [0.01490996, 0.01490996, 0.01490996, ..., 0.01490996, 0.01490996,\n",
       "        0.01490996],\n",
       "       ...,\n",
       "       [0.01402576, 0.01402576, 0.01402576, ..., 0.01402576, 0.01402576,\n",
       "        0.01402576],\n",
       "       [0.01204101, 0.01204101, 0.01204101, ..., 0.01204101, 0.01204101,\n",
       "        0.01204101],\n",
       "       [0.        , 0.        , 0.        , ..., 0.        , 0.        ,\n",
       "        0.        ]])"
      ]
     },
     "execution_count": 167,
     "metadata": {},
     "output_type": "execute_result"
    }
   ],
   "source": [
    "ATRs.shape[0]\n",
    "sprds"
   ]
  },
  {
   "cell_type": "code",
   "execution_count": 173,
   "metadata": {},
   "outputs": [],
   "source": [
    "#x = np.column_stack((atr,std,o,c,v))\n",
    "stack = np.column_stack((ATRs,sprds,movements))"
   ]
  },
  {
   "cell_type": "code",
   "execution_count": 177,
   "metadata": {},
   "outputs": [
    {
     "name": "stdout",
     "output_type": "stream",
     "text": [
      "0.4138546285454774\n",
      "-0.4425945454871447\n",
      "0.002020254288488981\n"
     ]
    }
   ],
   "source": [
    "# import Normalizer\n",
    "from sklearn.preprocessing import Normalizer\n",
    "# create the Normalizer\n",
    "normalizer = Normalizer()\n",
    "\n",
    "\n",
    "#Combined variables (stacked)\n",
    "stack = np.nan_to_num(stack,nan=0,posinf=1,neginf=-1)\n",
    "nstk = normalizer.fit_transform(stack)\n",
    "\n",
    "\n",
    "#Indepedent vars\n",
    "'''Make sure no nans'''\n",
    "movements = np.nan_to_num(movements, nan=0, posinf=1, neginf=-1)\n",
    "nmove = normalizer.fit_transform(movements)\n",
    "\n",
    "natr = normalizer.fit_transform(ATRs)\n",
    "nsprd = normalizer.fit_transform(sprds)\n",
    "\n",
    "print(new.max())\n",
    "print(new.min())\n",
    "print(new.mean())\n",
    "\n"
   ]
  },
  {
   "cell_type": "code",
   "execution_count": 176,
   "metadata": {},
   "outputs": [],
   "source": [
    "# import machine learning libraries\n",
    "from sklearn.pipeline import make_pipeline\n",
    "from sklearn.cluster import KMeans\n",
    "\n",
    "# define normalizer\n",
    "normalizer = Normalizer()\n",
    "\n",
    "# create a K-means model with 10 clusters\n",
    "kmeans = KMeans(n_clusters=10, max_iter=1000)\n",
    "\n",
    "# make a pipeline chaining normalizer and kmeans\n",
    "pipeline = make_pipeline(normalizer,kmeans)"
   ]
  },
  {
   "cell_type": "code",
   "execution_count": 191,
   "metadata": {},
   "outputs": [
    {
     "data": {
      "text/plain": [
       "Pipeline(memory=None,\n",
       "         steps=[('normalizer', Normalizer(copy=True, norm='l2')),\n",
       "                ('kmeans',\n",
       "                 KMeans(algorithm='auto', copy_x=True, init='k-means++',\n",
       "                        max_iter=1000, n_clusters=10, n_init=10, n_jobs=None,\n",
       "                        precompute_distances='auto', random_state=None,\n",
       "                        tol=0.0001, verbose=0))],\n",
       "         verbose=False)"
      ]
     },
     "execution_count": 191,
     "metadata": {},
     "output_type": "execute_result"
    }
   ],
   "source": [
    "# fit pipeline to daily stock movements\n",
    "pipeline.fit(nstk)"
   ]
  },
  {
   "cell_type": "code",
   "execution_count": 193,
   "metadata": {},
   "outputs": [
    {
     "name": "stdout",
     "output_type": "stream",
     "text": [
      "    labels          companies\n",
      "6        0          McDonalds\n",
      "0        1                IBM\n",
      "1        1           Walgreen\n",
      "21       1             Toyota\n",
      "4        1      Valero Energy\n",
      "20       1  Johnson & Johnson\n",
      "7        1  Texas Instruments\n",
      "14       1   American Express\n",
      "9        1              Pepsi\n",
      "10       1            Chevron\n",
      "11       1          Microsoft\n",
      "12       1         Mitsubishi\n",
      "2        2           Navistar\n",
      "27       3           Symantec\n",
      "22       4              Honda\n",
      "23       4               Sony\n",
      "18       5    Lockheed Martin\n",
      "19       5          Coca Cola\n",
      "24       5               Ford\n",
      "25       5              Apple\n",
      "26       5              Exxon\n",
      "13       5             Amazon\n",
      "5        6    Bank of America\n",
      "3        6         MasterCard\n",
      "15       7              Intel\n",
      "16       7   Northrop Grumman\n",
      "8        8   General Electric\n",
      "17       9             Boeing\n"
     ]
    }
   ],
   "source": [
    "# predict cluster labels\n",
    "#pipeline.fit(nmove)\n",
    "labels = pipeline.predict(nstk)\n",
    "\n",
    "# create a DataFrame aligning labels & companies\n",
    "df = pd.DataFrame({'labels': labels, 'companies': companies})\n",
    "\n",
    "# display df sorted by cluster labels\n",
    "print(df.sort_values('labels'))"
   ]
  },
  {
   "cell_type": "code",
   "execution_count": 196,
   "metadata": {},
   "outputs": [
    {
     "name": "stdout",
     "output_type": "stream",
     "text": [
      "    labels          companies\n",
      "27       0           Symantec\n",
      "4        1      Valero Energy\n",
      "21       1             Toyota\n",
      "25       2              Apple\n",
      "2        2           Navistar\n",
      "8        2   General Electric\n",
      "6        3          McDonalds\n",
      "17       3             Boeing\n",
      "24       4               Ford\n",
      "23       4               Sony\n",
      "22       4              Honda\n",
      "19       4          Coca Cola\n",
      "26       4              Exxon\n",
      "13       4             Amazon\n",
      "20       5  Johnson & Johnson\n",
      "11       6          Microsoft\n",
      "5        6    Bank of America\n",
      "3        6         MasterCard\n",
      "15       7              Intel\n",
      "16       7   Northrop Grumman\n",
      "14       8   American Express\n",
      "12       8         Mitsubishi\n",
      "18       9    Lockheed Martin\n",
      "10       9            Chevron\n",
      "9        9              Pepsi\n",
      "7        9  Texas Instruments\n",
      "1        9           Walgreen\n",
      "0        9                IBM\n"
     ]
    }
   ],
   "source": [
    "# PCA -- dimensionality reduction \n",
    "from sklearn.decomposition import PCA \n",
    "\n",
    "# visualize the results\n",
    "reduced_data = PCA(n_components = 2).fit_transform(nstk)\n",
    "\n",
    "# run kmeans on reduced data\n",
    "kmeans = KMeans(n_clusters=10)\n",
    "kmeans.fit(reduced_data)\n",
    "labels = kmeans.predict(reduced_data)\n",
    "\n",
    "# create DataFrame aligning labels & companies\n",
    "df = pd.DataFrame({'labels': labels, 'companies': companies})\n",
    "\n",
    "# Display df sorted by cluster labels\n",
    "print(df.sort_values('labels'))"
   ]
  },
  {
   "cell_type": "code",
   "execution_count": 197,
   "metadata": {},
   "outputs": [
    {
     "data": {
      "text/plain": [
       "<matplotlib.figure.Figure at 0x11c8d2250>"
      ]
     },
     "metadata": {},
     "output_type": "display_data"
    },
    {
     "data": {
      "image/png": "[encoded data removed]",
      "text/plain": [
       "<matplotlib.figure.Figure at 0x11c8e0910>"
      ]
     },
     "metadata": {
      "needs_background": "light"
     },
     "output_type": "display_data"
    }
   ],
   "source": [
    "# Define step size of mesh\n",
    "h = 0.01\n",
    "\n",
    "# plot the decision boundary\n",
    "x_min, x_max = reduced_data[:, 0].min() - 1, reduced_data[:,0].max() + 1\n",
    "y_min, y_max = reduced_data[:, 1].min() - 1, reduced_data[:,1].max() + 1\n",
    "xx, yy = np.meshgrid(np.arange(x_min, x_max, h), np.arange(y_min, y_max, h))\n",
    "\n",
    "# Obtain abels for each point in the mesh using our trained model\n",
    "Z = kmeans.predict(np.c_[xx.ravel(), yy.ravel()])\n",
    "\n",
    "# Put the result into a color plot\n",
    "Z = Z.reshape(xx.shape)\n",
    "\n",
    "# define colorplot\n",
    "cmap = plt.cm.Paired\n",
    "\n",
    "# plot figure\n",
    "plt.clf()\n",
    "plt.figure(figsize=(10,10))\n",
    "plt.imshow(Z, interpolation='nearest',\n",
    " extent = (xx.min(), xx.max(), yy.min(), yy.max()),\n",
    " cmap = cmap,\n",
    " aspect = 'auto', origin='lower')\n",
    "plt.plot(reduced_data[:, 0], reduced_data[:, 1], 'k.', markersize=5)\n",
    "\n",
    "\n",
    "# plot the centroid of each cluster as a white X\n",
    "centroids = kmeans.cluster_centers_\n",
    "plt.scatter(centroids[:, 0], centroids[:, 1],\n",
    " marker='x', s=169, linewidth=3,\n",
    " color='w', zorder=10)\n",
    "\n",
    "plt.title('K-Means Clustering on Stock Market Movements (PCA-Reduced Data)')\n",
    "plt.xlim(x_min, x_max)\n",
    "plt.ylim(y_min, y_max)\n",
    "plt.show()"
   ]
  }
 ],
 "metadata": {
  "kernelspec": {
   "display_name": "Python 3",
   "language": "python",
   "name": "python3"
  },
  "language_info": {
   "codemirror_mode": {
    "name": "ipython",
    "version": 3
   },
   "file_extension": ".py",
   "mimetype": "text/x-python",
   "name": "python",
   "nbconvert_exporter": "python",
   "pygments_lexer": "ipython3",
   "version": "3.7.4"
  }
 },
 "nbformat": 4,
 "nbformat_minor": 4
}
